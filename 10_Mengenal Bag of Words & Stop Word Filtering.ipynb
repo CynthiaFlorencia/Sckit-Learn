{
 "cells": [
  {
   "cell_type": "markdown",
   "id": "d54c57cb-1ff6-4dc4-b5a5-3631fd297298",
   "metadata": {},
   "source": [
    "# **10 Mengenal Bag of Words & Stop Word Filtering**"
   ]
  },
  {
   "cell_type": "markdown",
   "id": "a8b8d918-f629-4b3d-8141-743a53ddb12d",
   "metadata": {},
   "source": [
    "**Bag of Words model sebagai representasi text** <br>\n",
    "Bag of Words (BoW) adalah metode representasi teks yang sederhana. Metode ini mengabaikan tata bahasa dan urutan kata dalam kalimat. Dalam BoW, teks akan dikonversi menjadi huruf kecil dan tanda baca akan diabaikan. <br>\n",
    "Referensi : https://en.wikipedia.org/wiki/Bag-of-words_model"
   ]
  },
  {
   "cell_type": "markdown",
   "id": "0319bcb1-b5b3-4cd5-9407-a5a731faa2a4",
   "metadata": {},
   "source": [
    "**Dataset**"
   ]
  },
  {
   "cell_type": "code",
   "execution_count": 5,
   "id": "cae87b19-871b-4bb4-9282-200f9087fb62",
   "metadata": {},
   "outputs": [
    {
     "data": {
      "text/plain": [
       "['Linux has been around since the mid-1990s.',\n",
       " 'Linux distributions include the Linux kernel.',\n",
       " 'Linux is one of the most prominent open-source software.']"
      ]
     },
     "execution_count": 5,
     "metadata": {},
     "output_type": "execute_result"
    }
   ],
   "source": [
    "# Daftar kalimat yang akan digunakan sebagai corpus\n",
    "corpus = [\n",
    "    'Linux has been around since the mid-1990s.',  # Menginformasikan keberadaan Linux sejak pertengahan tahun 1990-an\n",
    "    'Linux distributions include the Linux kernel.',  # Menyebutkan bahwa distribusi Linux mencakup kernel Linux\n",
    "    'Linux is one of the most prominent open-source software.'  \n",
    "    # Menyatakan bahwa Linux adalah salah satu perangkat lunak open-source yang paling menonjol\n",
    "]\n",
    "\n",
    "# Menampilkan corpus yang telah didefinisikan\n",
    "corpus"
   ]
  },
  {
   "cell_type": "markdown",
   "id": "d3e0bc70-bd4c-478a-91a2-3837b1eae965",
   "metadata": {},
   "source": [
    "**Bag of Words model dengan <code>CountVectorizer<code>**"
   ]
  },
  {
   "cell_type": "markdown",
   "id": "52d6bace-c208-440d-a2fa-fe31d7d95ec0",
   "metadata": {},
   "source": [
    "Bag of Words model dapat diterapkan dengan memanfatkan <code>CountVectorizer<code>.\n",
    "\n",
    "Cara Kerja <code>CountVectorizer<code>:\n",
    "- Tokenisasi : Memecah teks menjadi kata-kata (token) individual.\n",
    "- Pembersihan Teks : Mengubah semua teks menjadi huruf kecil dan menghapus tanda baca.\n",
    "- Membangun Kosakata : Membuat daftar kata-kata unik yang ditemukan dalam seluruh corpus.\n",
    "- Membuat Vektor Film : Menghitung frekuensi kemunculan setiap kata dalam setiap dokumen dan membentuk matriks fitur.\n",
    "\n",
    "Fitur Utama <code>CountVectorizer<code>:\n",
    "- Lowercasing : CountVectorizer mengonversi semua teks menjadi huruf kecil.\n",
    "- Stop Words : Dapat diatur untuk menghapus kata-kata umum yang tidak memberikan informasi penting\n",
    "- N-grams : Dapat dikonfigurasi untuk mempertimbangkan kombinasi kata.\n",
    "- Binary Mode : Dapat diatur untuk hanya menunjukkan keberadaan atau ketidakhadiran kata."
   ]
  },
  {
   "cell_type": "code",
   "execution_count": 10,
   "id": "c40a876a-36fd-4b78-bd98-befd30a3cba8",
   "metadata": {},
   "outputs": [
    {
     "data": {
      "text/plain": [
       "matrix([[1, 1, 1, 0, 1, 0, 0, 0, 1, 1, 0, 0, 0, 0, 0, 1, 0, 0, 1],\n",
       "        [0, 0, 0, 1, 0, 1, 0, 1, 2, 0, 0, 0, 0, 0, 0, 0, 0, 0, 1],\n",
       "        [0, 0, 0, 0, 0, 0, 1, 0, 1, 0, 1, 1, 1, 1, 1, 0, 1, 1, 1]],\n",
       "       dtype=int64)"
      ]
     },
     "execution_count": 10,
     "metadata": {},
     "output_type": "execute_result"
    }
   ],
   "source": [
    "# Import CountVectorizer dari pustaka scikit-learn\n",
    "from sklearn.feature_extraction.text import CountVectorizer\n",
    "\n",
    "# Inisialisasi CountVectorizer\n",
    "vectorizer = CountVectorizer()\n",
    "\n",
    "# Menerapkan fit_transform pada corpus untuk tokenisasi dan menghitung frekuensi kata\n",
    "# Mengonversi hasilnya menjadi matriks padat (dense matrix)\n",
    "vectorized_X = vectorizer.fit_transform(corpus).todense()\n",
    "\n",
    "# Menampilkan matriks fitur yang dihasilkan\n",
    "vectorized_X"
   ]
  },
  {
   "cell_type": "code",
   "execution_count": 12,
   "id": "e7285442-9201-46d3-a43f-f76c4e8f765a",
   "metadata": {},
   "outputs": [
    {
     "data": {
      "text/plain": [
       "array(['1990s', 'around', 'been', 'distributions', 'has', 'include', 'is',\n",
       "       'kernel', 'linux', 'mid', 'most', 'of', 'one', 'open', 'prominent',\n",
       "       'since', 'software', 'source', 'the'], dtype=object)"
      ]
     },
     "execution_count": 12,
     "metadata": {},
     "output_type": "execute_result"
    }
   ],
   "source": [
    "# Mendapatkan daftar fitur (kata-kata unik) yang dihasilkan dari proses tokenisasi\n",
    "vectorizer.get_feature_names_out()"
   ]
  },
  {
   "cell_type": "markdown",
   "id": "6f4cd160-e6ee-4d62-b7f2-f5bd60a6cf93",
   "metadata": {},
   "source": [
    "**Euclidean Distance untuk mengukur kedekatan/jarak antar dokumen (vector)**"
   ]
  },
  {
   "cell_type": "code",
   "execution_count": 15,
   "id": "0cf92a5b-396d-41ed-a777-b374cc7c745f",
   "metadata": {},
   "outputs": [
    {
     "name": "stdout",
     "output_type": "stream",
     "text": [
      "Jarak dokumen 1 dan 2: [[3.16227766]]\n",
      "Jarak dokumen 1 dan 3: [[3.74165739]]\n",
      "Jarak dokumen 2 dan 3: [[3.46410162]]\n"
     ]
    }
   ],
   "source": [
    "# Import numpy\n",
    "import numpy as np\n",
    "# Import euclidean_distances dari pustaka sklearn.metrics.pairwise\n",
    "from sklearn.metrics.pairwise import euclidean_distances\n",
    "\n",
    "# Looping untuk menghitung jarak antara setiap pasangan dokumen menggunakan Euclidean distance\n",
    "for i in range(len(vectorized_X)):\n",
    "    for j in range(i, len(vectorized_X)):\n",
    "        # Menghindari perhitungan jarak antara dokumen yang sama\n",
    "        if i == j:\n",
    "            continue\n",
    "        # Mengonversi matriks vectorized_X menjadi tipe data numpy array\n",
    "        X_i = np.asarray(vectorized_X[i])\n",
    "        X_j = np.asarray(vectorized_X[j])\n",
    "        # Menghitung jarak antara dua dokumen menggunakan Euclidean distance\n",
    "        jarak = euclidean_distances(X_i, X_j)\n",
    "        # Menampilkan hasil jarak antara dua dokumen\n",
    "        print(f'Jarak dokumen {i+1} dan {j+1}: {jarak}')"
   ]
  },
  {
   "cell_type": "markdown",
   "id": "71dc2834-219b-40f4-91fa-84bef16acb9a",
   "metadata": {},
   "source": [
    "**Stop Word Filtering pada text** <br>\n",
    "Stop Word Filtering menyederhanakan representasi text dengan mengabaikan beberapa kata seperti determiners (the, a, an), auxiliary verbs (do, be, will), dan prepositions (on, in, at). <br>\n",
    "Referensi: https://en.wikipedia.org/wiki/Stop_word"
   ]
  },
  {
   "cell_type": "markdown",
   "id": "a4fb543f-ecc8-4094-8d97-e9c9974e766b",
   "metadata": {},
   "source": [
    "**Dataset**"
   ]
  },
  {
   "cell_type": "code",
   "execution_count": 21,
   "id": "dc59a7ed-90ee-4053-a327-5301588fdea3",
   "metadata": {},
   "outputs": [
    {
     "data": {
      "text/plain": [
       "['Linux has been around since the mid-1990s.',\n",
       " 'Linux distributions include the Linux kernel.',\n",
       " 'Linux is one of the most prominent open-source software.']"
      ]
     },
     "execution_count": 21,
     "metadata": {},
     "output_type": "execute_result"
    }
   ],
   "source": [
    "corpus"
   ]
  },
  {
   "cell_type": "markdown",
   "id": "0f4da3cb-20b3-4fdb-89fb-0a162406fa49",
   "metadata": {},
   "source": [
    "**Stop Word Filtering dengan <code>CountVectorizer<code>** <br>\n",
    "Stop Word Filtering juga dapat diterapkan dengan memanfaatkan <code>CountVectorizer<code>"
   ]
  },
  {
   "cell_type": "code",
   "execution_count": 24,
   "id": "63a131c9-41bc-49db-9b51-1d52aeb25fb6",
   "metadata": {},
   "outputs": [
    {
     "data": {
      "text/plain": [
       "matrix([[1, 0, 0, 0, 1, 1, 0, 0, 0, 0],\n",
       "        [0, 1, 1, 1, 2, 0, 0, 0, 0, 0],\n",
       "        [0, 0, 0, 0, 1, 0, 1, 1, 1, 1]], dtype=int64)"
      ]
     },
     "execution_count": 24,
     "metadata": {},
     "output_type": "execute_result"
    }
   ],
   "source": [
    "# Import CountVectorizer dari pustaka scikit-learn\n",
    "from sklearn.feature_extraction.text import CountVectorizer\n",
    "\n",
    "# Inisialisasi CountVectorizer dengan mengatur stop words ke 'english'\n",
    "vectorizer = CountVectorizer(stop_words='english')\n",
    "\n",
    "# Menerapkan fit_transform pada corpus untuk tokenisasi dan menghitung frekuensi kata\n",
    "# Mengonversi hasilnya menjadi matriks padat (dense matrix)\n",
    "vectorized_X = vectorizer.fit_transform(corpus).todense()\n",
    "\n",
    "# Menampilkan matriks fitur yang dihasilkan\n",
    "vectorized_X"
   ]
  },
  {
   "cell_type": "code",
   "execution_count": 26,
   "id": "d1ea21a1-78b7-4dd2-bc04-0c0ffdcb4ea8",
   "metadata": {},
   "outputs": [
    {
     "data": {
      "text/plain": [
       "array(['1990s', 'distributions', 'include', 'kernel', 'linux', 'mid',\n",
       "       'open', 'prominent', 'software', 'source'], dtype=object)"
      ]
     },
     "execution_count": 26,
     "metadata": {},
     "output_type": "execute_result"
    }
   ],
   "source": [
    "# Mendapatkan daftar fitur (kata-kata unik) yang dihasilkan dari proses tokenisasi\n",
    "vectorizer.get_feature_names_out()"
   ]
  }
 ],
 "metadata": {
  "kernelspec": {
   "display_name": "Python 3 (ipykernel)",
   "language": "python",
   "name": "python3"
  },
  "language_info": {
   "codemirror_mode": {
    "name": "ipython",
    "version": 3
   },
   "file_extension": ".py",
   "mimetype": "text/x-python",
   "name": "python",
   "nbconvert_exporter": "python",
   "pygments_lexer": "ipython3",
   "version": "3.12.7"
  }
 },
 "nbformat": 4,
 "nbformat_minor": 5
}
