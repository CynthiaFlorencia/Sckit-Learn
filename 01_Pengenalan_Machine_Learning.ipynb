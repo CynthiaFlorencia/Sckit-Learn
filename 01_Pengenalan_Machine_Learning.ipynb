{
 "cells": [
  {
   "cell_type": "markdown",
   "id": "18ea2e5b-8c94-4f62-8ad8-aeec13505e7a",
   "metadata": {},
   "source": [
    "# **01 Pengenalan Machine Learning**"
   ]
  },
  {
   "cell_type": "markdown",
   "id": "316e9676-ff45-4f18-b86f-d66e82a7498d",
   "metadata": {},
   "source": [
    "**Apa itu Machine Learning (ML)?**\n",
    "- \"Machine Learning is a study that gives computers the ability to learn without being explicitly programmed\" - **Arthur Samuel**\n",
    "- \"Machine Learning is a program can be said to learn from experience `E` with respect to some class of tasks `T` and performance measure `P`. if its performance at tasks in `T`, as measured by `P`, improves with experience `E`.\" - **Tom Mitchell**\n",
    "- Machine Learning adalah bidang ilmu yang memampukan suatu program komputer untuk belajar dari sekumpulan data."
   ]
  },
  {
   "cell_type": "markdown",
   "id": "bd3474d5-a3a5-4185-b707-59f791b22249",
   "metadata": {},
   "source": [
    "**Learning Problem**\n",
    "- **Learning problem** dalam konteks Machine Learning (ML) melibatkan suatu dataset (terdiri dari sejumlah `n`sample data) untuk melakukan prediksi terhadap properties yang tidak diketahui pada dataset lain yang sejenis.\n",
    "- Secara umum learning problem dapat dibagi menjadi dua, yaitu **supervised learning** dan unsupervised learning.\n",
    "- Pada **supervised learning problem**, program memprediksi suatu nilai output untuk suatu input berdasarkan proses **learning** dengan memanfaatkan sekumpulan data yang terbagi dalam dua label, yaitu input dan output. Di sini program melakukan **learning*** dari sekumpulan contoh kasus (examples) yang menyertakan \"jawaban benar\".\n",
    "- Pada **unsupervised learning problem**, program tidak melakukan learning dari labeled data; melainkan mencoba menemukan pola (patterns) pada data. Di sini program melakukan learning dari sekumpulan contoh kasus (examples) tanpa disertai \"jawaban benar\"."
   ]
  },
  {
   "cell_type": "markdown",
   "id": "dfc0b718-8edd-43ae-ad2a-522efa708696",
   "metadata": {},
   "source": [
    "**Teknologi Dasar pada Supervised Learning** \n",
    "- **output** : label, response variable, dependent variable, regressand, criterion variable, measured variable, responding variable, explained variable, outcome variable, experimental variable, dan output variable\n",
    "- **input** : features, explanatory variables, predictors, regressors, controlled variables, and exposure variables\n",
    "- **training set** : Sekumpulan \"contoh\" yang digunakan untuk proses **learning (training)** pada supervised learning.\n",
    "- **test set** : Sekumpulan \"contoh\" yang digunakan untuk mengukur performa pada supervised learning.\n",
    "- Pada supervised learning, **response variable** bisa dianalogikan sebagai **kunci jawaban** dan **explanatory variables** bisa dianalogikan sebagai **pertanyaannya**."
   ]
  },
  {
   "cell_type": "markdown",
   "id": "fcf9f53d-bbe5-4167-b51f-54a889e2302f",
   "metadata": {},
   "source": [
    "**Supervised Machine Learning Tasks**\n",
    "- Secara umum terdapat dua jenis Supervised Machine Learning Tasks, yaitu **Classification** dan **regression**\n",
    "- **Classification tasks** menekankan pada proses learning (training) untuk melakukan prediksi nilai discrete (i.e., category, class, label) dari sejumlah features.\n",
    "- **Regression tasks** menekankan pada proses learning (training) untuk melakukan prediksi nilai continuos (floating point) dari sejumlah features."
   ]
  },
  {
   "cell_type": "markdown",
   "id": "710a460e-8414-4737-906a-cfcfd028f6a9",
   "metadata": {},
   "source": [
    "**Unsupervised Machine Learning Tasks**\n",
    "- Terdapat beberapa Unsupervised Machine Learning Tasks dan kita akan berfokus pada dua tasks, yaitu **Clustering** dan **Dimensionality Reduction**.\n",
    "- **Clustering tasks** menekankan pada proses explorasi data untuk menemukan kelompok (group) pada data berdasarkan kemiripan (kedekatan) karakteristik.\n",
    "- **Dimensionality Reduction tasks** menekankan pada proses explorasi data untuk menemukan sejumlah features yang paling berdampak terhadap response variable."
   ]
  },
  {
   "cell_type": "markdown",
   "id": "5b9e6c43-bb56-4724-a4de-a1b29cfbd989",
   "metadata": {},
   "source": [
    "**Rekomendasi Buku**\n",
    "- Machine Learning Yearning (by Andrew Ng)\n",
    "- The Hundred-Page Machine Learning Book (by Andriy Burkov)\n",
    "- Learning From Data (by Yaser S. Abu-Mostafa)"
   ]
  },
  {
   "cell_type": "markdown",
   "id": "c2f1d58e-ba68-4c49-b3e6-1efc568b29e8",
   "metadata": {},
   "source": [
    "**Kemampuan teknis yang perlu di persiapkan**\n",
    "- Pemrograman Python \n",
    "- Struktur Data Python \n",
    "- Python Panda \n",
    "- Python Matplotlib \n",
    "- Statistika Deskriptif \n",
    "- Probabilitas"
   ]
  }
 ],
 "metadata": {
  "kernelspec": {
   "display_name": "Python 3 (ipykernel)",
   "language": "python",
   "name": "python3"
  },
  "language_info": {
   "codemirror_mode": {
    "name": "ipython",
    "version": 3
   },
   "file_extension": ".py",
   "mimetype": "text/x-python",
   "name": "python",
   "nbconvert_exporter": "python",
   "pygments_lexer": "ipython3",
   "version": "3.12.7"
  }
 },
 "nbformat": 4,
 "nbformat_minor": 5
}
