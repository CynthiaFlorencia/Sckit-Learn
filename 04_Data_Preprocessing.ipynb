{
 "cells": [
  {
   "cell_type": "markdown",
   "id": "9885c288-7797-42c7-a396-78fe0fcf0b56",
   "metadata": {},
   "source": [
    "# **04 Data Preprocessing dengan Sckit-Learn**"
   ]
  },
  {
   "cell_type": "markdown",
   "id": "f986fd53-6eda-4b43-99a3-6e0eb608f7ea",
   "metadata": {},
   "source": [
    "**Sample Dataset** <br>\n",
    "- Dataset ini terdiri dari 4 baris data, dan setiap barisnya memiliki 3 fitur.\n",
    "- Fungsi .shape digunakan untuk mengetahui dimensi dari dataset. Output berupa nilai 4,3 menunjukkan bahwa dataset ini terdiri dari 4 baris dan 3 fitur."
   ]
  },
  {
   "cell_type": "code",
   "execution_count": 4,
   "id": "29e6d911-8584-44c0-91aa-f697ba70d701",
   "metadata": {},
   "outputs": [
    {
     "data": {
      "text/plain": [
       "array([[ 2.1, -1.9,  5.5],\n",
       "       [-1.5,  2.4,  3.5],\n",
       "       [ 0.5, -7.9,  5.6],\n",
       "       [ 5.9,  2.3, -5.8]])"
      ]
     },
     "execution_count": 4,
     "metadata": {},
     "output_type": "execute_result"
    }
   ],
   "source": [
    "import numpy as np\n",
    "from sklearn import preprocessing\n",
    "\n",
    "sample_data = np.array([[2.1, -1.9, 5.5], \n",
    "                        [-1.5, 2.4, 3.5], \n",
    "                        [0.5, -7.9, 5.6],\n",
    "                        [5.9, 2.3, -5.8]])\n",
    "\n",
    "sample_data"
   ]
  },
  {
   "cell_type": "code",
   "execution_count": 6,
   "id": "b8eb1c28-c75e-4264-a762-9f21a62d29d9",
   "metadata": {},
   "outputs": [
    {
     "data": {
      "text/plain": [
       "(4, 3)"
      ]
     },
     "execution_count": 6,
     "metadata": {},
     "output_type": "execute_result"
    }
   ],
   "source": [
    "sample_data.shape"
   ]
  },
  {
   "cell_type": "markdown",
   "id": "06597f53-62d4-46a4-89a6-c53b077e354b",
   "metadata": {},
   "source": [
    "**Binarisation** <br>\n",
    "- Proses binarisasi menghasilkan output yang terdiri dari nilai 0 dan 1 saja.\n",
    "- Binarizer dapat diaplikasikan dengan menggunakan fungsi preprocessing.Binarizer()\n",
    "- Parameter threshold menentukan nilai batas yang akan dijadikan 0, sedangkan nilai di atasnya akan diubah menjadi nilai 1 dan untuk nilai yang sama dengan treshold akan di konversi menjadi 0\n",
    "- .Fungsi transform() digunakan untuk mengubah data sampel menjadi nilai biner."
   ]
  },
  {
   "cell_type": "code",
   "execution_count": 9,
   "id": "77544012-821a-4bea-b243-320b8d4a492f",
   "metadata": {},
   "outputs": [
    {
     "data": {
      "text/plain": [
       "array([[ 2.1, -1.9,  5.5],\n",
       "       [-1.5,  2.4,  3.5],\n",
       "       [ 0.5, -7.9,  5.6],\n",
       "       [ 5.9,  2.3, -5.8]])"
      ]
     },
     "execution_count": 9,
     "metadata": {},
     "output_type": "execute_result"
    }
   ],
   "source": [
    "sample_data"
   ]
  },
  {
   "cell_type": "code",
   "execution_count": 11,
   "id": "b769d718-ab90-4c2c-aacd-dfdd2b897765",
   "metadata": {},
   "outputs": [
    {
     "data": {
      "text/plain": [
       "array([[1., 0., 1.],\n",
       "       [0., 1., 1.],\n",
       "       [0., 0., 1.],\n",
       "       [1., 1., 0.]])"
      ]
     },
     "execution_count": 11,
     "metadata": {},
     "output_type": "execute_result"
    }
   ],
   "source": [
    "preprocessor = preprocessing.Binarizer(threshold=0.5)\n",
    "binarised_data = preprocessor.transform(sample_data)\n",
    "binarised_data"
   ]
  },
  {
   "cell_type": "markdown",
   "id": "5f544f8e-f257-4c5c-8c8b-efe20fa65883",
   "metadata": {},
   "source": [
    "**Scaling** <br>\n",
    "- Tujuan scaling adalah mengubah nilai data numerik sehingga berada dalam rentang tertentu.uProses ini dapat dilakukan dengan menggunakan fungsi preprocessing.MinMaxScaler().Tentukan jangkauan scaling.\n",
    "- Setelahnya kita sesuaikan sample_data dengan scaler tadi menggunakan fungsi fit().\n",
    "- Terakhir transform sample_data menggunakan method transform().\n",
    "- Penyingkatan cara kedua dan ketiga bisa dilakukan dengan menggunkan method fit_transform()."
   ]
  },
  {
   "cell_type": "code",
   "execution_count": 18,
   "id": "9986bc58-7574-4ae1-a9de-6ea5375d1338",
   "metadata": {},
   "outputs": [
    {
     "data": {
      "text/plain": [
       "array([[ 2.1, -1.9,  5.5],\n",
       "       [-1.5,  2.4,  3.5],\n",
       "       [ 0.5, -7.9,  5.6],\n",
       "       [ 5.9,  2.3, -5.8]])"
      ]
     },
     "execution_count": 18,
     "metadata": {},
     "output_type": "execute_result"
    }
   ],
   "source": [
    "sample_data"
   ]
  },
  {
   "cell_type": "code",
   "execution_count": 20,
   "id": "0b718415-f947-4488-ab43-9b53d7ad61ad",
   "metadata": {},
   "outputs": [
    {
     "data": {
      "text/plain": [
       "array([[0.48648649, 0.58252427, 0.99122807],\n",
       "       [0.        , 1.        , 0.81578947],\n",
       "       [0.27027027, 0.        , 1.        ],\n",
       "       [1.        , 0.99029126, 0.        ]])"
      ]
     },
     "execution_count": 20,
     "metadata": {},
     "output_type": "execute_result"
    }
   ],
   "source": [
    "preprocessor = preprocessing.MinMaxScaler(feature_range=(0, 1))\n",
    "preprocessor.fit(sample_data)\n",
    "scaled_data = preprocessor.transform(sample_data)\n",
    "scaled_data"
   ]
  },
  {
   "cell_type": "code",
   "execution_count": 22,
   "id": "9fce07ee-79ec-4e35-8f5a-1319206792ac",
   "metadata": {},
   "outputs": [
    {
     "data": {
      "text/plain": [
       "array([[0.48648649, 0.58252427, 0.99122807],\n",
       "       [0.        , 1.        , 0.81578947],\n",
       "       [0.27027027, 0.        , 1.        ],\n",
       "       [1.        , 0.99029126, 0.        ]])"
      ]
     },
     "execution_count": 22,
     "metadata": {},
     "output_type": "execute_result"
    }
   ],
   "source": [
    "scaled_data = preprocessor.fit_transform(sample_data)\n",
    "scaled_data"
   ]
  },
  {
   "cell_type": "markdown",
   "id": "8974fae6-281d-4ce4-a95d-56006d241865",
   "metadata": {},
   "source": [
    "**L1 Noemalisation : Least Absolute Deviations** <br>\n",
    "Referensi : [wikipedia](https://en.wikipedia.org/wiki/Least_absolute_deviations) <br>\n",
    "Melakukan normalisasi nilai numerik dapat menggunakan fungsi preprocessing.normalize()"
   ]
  },
  {
   "cell_type": "code",
   "execution_count": 27,
   "id": "c29b35a0-d10d-4f19-bcc3-92f01d70fcfd",
   "metadata": {},
   "outputs": [
    {
     "data": {
      "text/plain": [
       "array([[ 2.1, -1.9,  5.5],\n",
       "       [-1.5,  2.4,  3.5],\n",
       "       [ 0.5, -7.9,  5.6],\n",
       "       [ 5.9,  2.3, -5.8]])"
      ]
     },
     "execution_count": 27,
     "metadata": {},
     "output_type": "execute_result"
    }
   ],
   "source": [
    "sample_data"
   ]
  },
  {
   "cell_type": "code",
   "execution_count": 31,
   "id": "8a2614e0-73f8-4d24-b894-0bbe8ac21dea",
   "metadata": {},
   "outputs": [
    {
     "data": {
      "text/plain": [
       "array([[ 0.22105263, -0.2       ,  0.57894737],\n",
       "       [-0.2027027 ,  0.32432432,  0.47297297],\n",
       "       [ 0.03571429, -0.56428571,  0.4       ],\n",
       "       [ 0.42142857,  0.16428571, -0.41428571]])"
      ]
     },
     "execution_count": 31,
     "metadata": {},
     "output_type": "execute_result"
    }
   ],
   "source": [
    "l1_normalised_data = preprocessing.normalize(sample_data, norm='l1')\n",
    "l1_normalised_data"
   ]
  },
  {
   "cell_type": "markdown",
   "id": "a6912d69-4187-4be5-b43e-c86135753a63",
   "metadata": {},
   "source": [
    "**L2 Normalisation : Least Squares** <br>\n",
    "Referensi : [wikipedia](https://en.wikipedia.org/wiki/Least_squares) <br>\n",
    "Melakukan normalisasi nilai numerik dapat menggunakan fungsi preprocessing.normalize()"
   ]
  },
  {
   "cell_type": "code",
   "execution_count": 35,
   "id": "5d5d5bd6-6a14-40be-80bc-acb217f00440",
   "metadata": {},
   "outputs": [
    {
     "data": {
      "text/plain": [
       "array([[ 2.1, -1.9,  5.5],\n",
       "       [-1.5,  2.4,  3.5],\n",
       "       [ 0.5, -7.9,  5.6],\n",
       "       [ 5.9,  2.3, -5.8]])"
      ]
     },
     "execution_count": 35,
     "metadata": {},
     "output_type": "execute_result"
    }
   ],
   "source": [
    "sample_data"
   ]
  },
  {
   "cell_type": "code",
   "execution_count": 37,
   "id": "9acfeed3-298c-4f4c-ac0a-fd9f4ee7788b",
   "metadata": {},
   "outputs": [
    {
     "data": {
      "text/plain": [
       "array([[ 0.33946114, -0.30713151,  0.88906489],\n",
       "       [-0.33325106,  0.53320169,  0.7775858 ],\n",
       "       [ 0.05156558, -0.81473612,  0.57753446],\n",
       "       [ 0.68706914,  0.26784051, -0.6754239 ]])"
      ]
     },
     "execution_count": 37,
     "metadata": {},
     "output_type": "execute_result"
    }
   ],
   "source": [
    "l2_normalised_data = preprocessing.normalize(sample_data, norm='l2')\n",
    "l2_normalised_data"
   ]
  }
 ],
 "metadata": {
  "kernelspec": {
   "display_name": "Python 3 (ipykernel)",
   "language": "python",
   "name": "python3"
  },
  "language_info": {
   "codemirror_mode": {
    "name": "ipython",
    "version": 3
   },
   "file_extension": ".py",
   "mimetype": "text/x-python",
   "name": "python",
   "nbconvert_exporter": "python",
   "pygments_lexer": "ipython3",
   "version": "3.12.7"
  }
 },
 "nbformat": 4,
 "nbformat_minor": 5
}
